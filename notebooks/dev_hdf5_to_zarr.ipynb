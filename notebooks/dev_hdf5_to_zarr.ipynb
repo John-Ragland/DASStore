{
 "cells": [
  {
   "cell_type": "code",
   "execution_count": 1,
   "id": "975f466c",
   "metadata": {},
   "outputs": [],
   "source": [
    "import h5py\n",
    "import zarr\n",
    "import tqdm\n",
    "import os\n",
    "import glob\n",
    "import time"
   ]
  },
  {
   "cell_type": "code",
   "execution_count": 2,
   "id": "2944e9f7",
   "metadata": {},
   "outputs": [],
   "source": [
    "flist = sorted(glob.glob(\"/data/wsd04/OOI-DAS/Raw-Data/*.h5\"))"
   ]
  },
  {
   "cell_type": "code",
   "execution_count": 3,
   "id": "3e31136b",
   "metadata": {},
   "outputs": [],
   "source": [
    "z = zarr.open(f\"/data/wsd04/OOI-DAS/Zarr-1/2021-11-02T000014Z.zarr/\")"
   ]
  },
  {
   "cell_type": "code",
   "execution_count": 7,
   "id": "ef4282bc",
   "metadata": {},
   "outputs": [
    {
     "data": {
      "text/html": [
       "<table class=\"zarr-info\"><tbody><tr><th style=\"text-align: left\">Name</th><td style=\"text-align: left\">/Acquisition/Raw0/RawData</td></tr><tr><th style=\"text-align: left\">Type</th><td style=\"text-align: left\">zarr.core.Array</td></tr><tr><th style=\"text-align: left\">Data type</th><td style=\"text-align: left\">int32</td></tr><tr><th style=\"text-align: left\">Shape</th><td style=\"text-align: left\">(47500, 12000)</td></tr><tr><th style=\"text-align: left\">Chunk shape</th><td style=\"text-align: left\">(1, 12000)</td></tr><tr><th style=\"text-align: left\">Order</th><td style=\"text-align: left\">C</td></tr><tr><th style=\"text-align: left\">Read-only</th><td style=\"text-align: left\">False</td></tr><tr><th style=\"text-align: left\">Compressor</th><td style=\"text-align: left\">Blosc(cname='lz4', clevel=5, shuffle=SHUFFLE, blocksize=0)</td></tr><tr><th style=\"text-align: left\">Store type</th><td style=\"text-align: left\">zarr.storage.DirectoryStore</td></tr><tr><th style=\"text-align: left\">No. bytes</th><td style=\"text-align: left\">2280000000 (2.1G)</td></tr><tr><th style=\"text-align: left\">No. bytes stored</th><td style=\"text-align: left\">1251732490 (1.2G)</td></tr><tr><th style=\"text-align: left\">Storage ratio</th><td style=\"text-align: left\">1.8</td></tr><tr><th style=\"text-align: left\">Chunks initialized</th><td style=\"text-align: left\">47500/47500</td></tr></tbody></table>"
      ],
      "text/plain": [
       "Name               : /Acquisition/Raw0/RawData\n",
       "Type               : zarr.core.Array\n",
       "Data type          : int32\n",
       "Shape              : (47500, 12000)\n",
       "Chunk shape        : (1, 12000)\n",
       "Order              : C\n",
       "Read-only          : False\n",
       "Compressor         : Blosc(cname='lz4', clevel=5, shuffle=SHUFFLE, blocksize=0)\n",
       "Store type         : zarr.storage.DirectoryStore\n",
       "No. bytes          : 2280000000 (2.1G)\n",
       "No. bytes stored   : 1251732490 (1.2G)\n",
       "Storage ratio      : 1.8\n",
       "Chunks initialized : 47500/47500"
      ]
     },
     "execution_count": 7,
     "metadata": {},
     "output_type": "execute_result"
    }
   ],
   "source": [
    "z[\"/Acquisition/Raw0/RawData\"].info"
   ]
  },
  {
   "cell_type": "code",
   "execution_count": 20,
   "id": "855f64e5",
   "metadata": {},
   "outputs": [
    {
     "name": "stdout",
     "output_type": "stream",
     "text": [
      "working on /data/wsd04/OOI-DAS/Raw-Data/South-C1-LR-95km-P1kHz-GL50m-SP2m-FS200Hz_2021-11-02T000014Z.h5\n",
      "working on /data/wsd04/OOI-DAS/Raw-Data/South-C1-LR-95km-P1kHz-GL50m-SP2m-FS200Hz_2021-11-02T000114Z.h5\n",
      "working on /data/wsd04/OOI-DAS/Raw-Data/South-C1-LR-95km-P1kHz-GL50m-SP2m-FS200Hz_2021-11-02T000214Z.h5\n",
      "working on /data/wsd04/OOI-DAS/Raw-Data/South-C1-LR-95km-P1kHz-GL50m-SP2m-FS200Hz_2021-11-02T000314Z.h5\n",
      "working on /data/wsd04/OOI-DAS/Raw-Data/South-C1-LR-95km-P1kHz-GL50m-SP2m-FS200Hz_2021-11-02T000414Z.h5\n",
      "working on /data/wsd04/OOI-DAS/Raw-Data/South-C1-LR-95km-P1kHz-GL50m-SP2m-FS200Hz_2021-11-02T000514Z.h5\n",
      "working on /data/wsd04/OOI-DAS/Raw-Data/South-C1-LR-95km-P1kHz-GL50m-SP2m-FS200Hz_2021-11-02T000614Z.h5\n",
      "working on /data/wsd04/OOI-DAS/Raw-Data/South-C1-LR-95km-P1kHz-GL50m-SP2m-FS200Hz_2021-11-02T000714Z.h5\n",
      "working on /data/wsd04/OOI-DAS/Raw-Data/South-C1-LR-95km-P1kHz-GL50m-SP2m-FS200Hz_2021-11-02T000814Z.h5\n",
      "working on /data/wsd04/OOI-DAS/Raw-Data/South-C1-LR-95km-P1kHz-GL50m-SP2m-FS200Hz_2021-11-02T000914Z.h5\n",
      "10.503139185905457\n"
     ]
    }
   ],
   "source": [
    "chunksize = 10000\n",
    "t0 = time.time()\n",
    "if not os.path.exists(f\"/data/wsd04/OOI-DAS/Zarr-{chunksize}\"):\n",
    "    os.makedirs(f\"/data/wsd04/OOI-DAS/Zarr-{chunksize}\")\n",
    "for idf, f in enumerate(flist):\n",
    "    print(f\"working on {f}\")\n",
    "    zname = f.split(\"_\")[-1][:-3]\n",
    "    f = h5py.File(f,'r')\n",
    "    z = zarr.open(f\"/data/wsd04/OOI-DAS/Zarr-{chunksize}/{zname}.zarr\")\n",
    "    \n",
    "    zacq = z.create_group(\"Acquisition\")\n",
    "    zcustom1 = zacq.create_group(\"Custom\")\n",
    "\n",
    "    # Raw[0] seem not working for fsspec\n",
    "    # use Raw%5B0%5B? Raw0\n",
    "    zraw = zacq.create_group(\"Raw0\") \n",
    "\n",
    "    # chunck size to alter\n",
    "    zrawdata = zraw.create_dataset(\"RawData\", shape=(47500, 12000), chunks=(chunksize, 12000), dtype='i4')\n",
    "    zrawdata[:, :] = f['/Acquisition/Raw[0]/RawData'][:, :]\n",
    "\n",
    "    zrawdatatime = zraw.create_dataset(\"RawDataTime\", shape=(12000,),  dtype='i8')\n",
    "    zrawdatatime[:] = f['/Acquisition/Raw[0]/RawDataTime'][:]\n",
    "\n",
    "    zcustom2 = zraw.create_group(\"Custom\")\n",
    "    zgpbit = zcustom2.create_dataset(\"GpBits\", shape=(12000,),  dtype='u1')\n",
    "    zgpbit[:] = f['/Acquisition/Raw[0]/Custom/GpBits'][:]\n",
    "\n",
    "    zgps = zcustom2.create_dataset(\"GpsStatus\", shape=(12000,), dtype='u1')\n",
    "    zgps[:] = f['/Acquisition/Raw[0]/Custom/GpsStatus'][:]\n",
    "\n",
    "    zpps = zcustom2.create_dataset(\"PpsOffset\", shape=(12000,), dtype='u4')\n",
    "    zpps[:] = f['/Acquisition/Raw[0]/Custom/PpsOffset'][:]\n",
    "\n",
    "    zspc = zcustom2.create_dataset(\"SampleCount\", shape=(12000,), dtype='i8')\n",
    "    zspc[:] = f['/Acquisition/Raw[0]/Custom/SampleCount'][:]\n",
    "    \n",
    "    f.close()\n",
    "print((time.time() - t0)/10)"
   ]
  },
  {
   "cell_type": "code",
   "execution_count": null,
   "id": "48e0ee9e",
   "metadata": {},
   "outputs": [],
   "source": []
  }
 ],
 "metadata": {
  "kernelspec": {
   "display_name": "asdf",
   "language": "python",
   "name": "asdf"
  },
  "language_info": {
   "codemirror_mode": {
    "name": "ipython",
    "version": 3
   },
   "file_extension": ".py",
   "mimetype": "text/x-python",
   "name": "python",
   "nbconvert_exporter": "python",
   "pygments_lexer": "ipython3",
   "version": "3.7.12"
  }
 },
 "nbformat": 4,
 "nbformat_minor": 5
}
