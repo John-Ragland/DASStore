{
 "cells": [
  {
   "cell_type": "code",
   "execution_count": 1,
   "id": "6c065d6a",
   "metadata": {},
   "outputs": [],
   "source": [
    "import zarr\n",
    "import time\n",
    "from dask import array as da\n",
    "import numpy as np"
   ]
  },
  {
   "cell_type": "code",
   "execution_count": 11,
   "id": "0ad0a017",
   "metadata": {},
   "outputs": [
    {
     "name": "stdout",
     "output_type": "stream",
     "text": [
      "CPU times: user 2.04 s, sys: 2.38 s, total: 4.42 s\n",
      "Wall time: 18.4 s\n"
     ]
    }
   ],
   "source": [
    "%%time\n",
    "g = zarr.open_group(\"simplecache::s3://OOI-DAS-200/2021-11-02T000014Z.zarr/Acquisition/Raw0\",\n",
    "                            storage_options = {\"s3\":{\n",
    "                                # for public data (anonymous access):\n",
    "                                \"anon\": True,\n",
    "                                \"client_kwargs\": {\n",
    "                                    \"endpoint_url\": \"http://pnwstore1.ess.washington.edu:9000\"\n",
    "                                }\n",
    "                            }})\n",
    "_ = g['/Acquisition/Raw0/RawData'][:, :]"
   ]
  },
  {
   "cell_type": "code",
   "execution_count": 2,
   "id": "e006a916",
   "metadata": {},
   "outputs": [
    {
     "name": "stdout",
     "output_type": "stream",
     "text": [
      "CPU times: user 3.68 s, sys: 3.57 s, total: 7.25 s\n",
      "Wall time: 20 s\n"
     ]
    }
   ],
   "source": [
    "%%time\n",
    "d = da.from_zarr(\"simplecache::s3://OOI-DAS-200/2021-11-02T000014Z.zarr/\", \"Acquisition/Raw0/RawData\",\n",
    "                            storage_options = {\"s3\":{\n",
    "                                # for public data (anonymous access):\n",
    "                                \"anon\": True,\n",
    "                                \"client_kwargs\": {\n",
    "                                    \"endpoint_url\": \"http://pnwstore1.ess.washington.edu:9000\"\n",
    "                                }}\n",
    "                            })\n",
    "_ = np.array(d)"
   ]
  },
  {
   "cell_type": "code",
   "execution_count": null,
   "id": "4488f696",
   "metadata": {},
   "outputs": [],
   "source": []
  }
 ],
 "metadata": {
  "kernelspec": {
   "display_name": "asdf",
   "language": "python",
   "name": "asdf"
  },
  "language_info": {
   "codemirror_mode": {
    "name": "ipython",
    "version": 3
   },
   "file_extension": ".py",
   "mimetype": "text/x-python",
   "name": "python",
   "nbconvert_exporter": "python",
   "pygments_lexer": "ipython3",
   "version": "3.7.12"
  }
 },
 "nbformat": 4,
 "nbformat_minor": 5
}
