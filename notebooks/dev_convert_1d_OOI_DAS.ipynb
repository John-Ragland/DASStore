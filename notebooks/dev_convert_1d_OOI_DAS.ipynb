{
 "cells": [
  {
   "cell_type": "markdown",
   "id": "a3093f5d",
   "metadata": {},
   "source": [
    "## Convert one day of OOI DAS (silixa) file\n",
    "- sermeq to pnwstore\n",
    "- HDF5 to Zarr"
   ]
  },
  {
   "cell_type": "code",
   "execution_count": 1,
   "id": "fc301826",
   "metadata": {},
   "outputs": [],
   "source": [
    "import h5py\n",
    "import zarr\n",
    "import numpy as np\n",
    "import time\n",
    "import os\n",
    "import glob"
   ]
  },
  {
   "cell_type": "code",
   "execution_count": 2,
   "id": "19a7459b",
   "metadata": {},
   "outputs": [],
   "source": [
    "flist = glob.glob(\"/data/data2/south-data-ejm/hdd/South-C1-LR-95km-P1kHz-GL50m-SP2m-FS200Hz_2021-11-01T16_09_15-0700/*2021-11-02*\")\n",
    "flist = sorted(flist)"
   ]
  },
  {
   "cell_type": "code",
   "execution_count": 4,
   "id": "65d79cb2",
   "metadata": {},
   "outputs": [
    {
     "name": "stdout",
     "output_type": "stream",
     "text": [
      "working on /data/data2/south-data-ejm/hdd/South-C1-LR-95km-P1kHz-GL50m-SP2m-FS200Hz_2021-11-01T16_09_15-0700/South-C1-LR-95km-P1kHz-GL50m-SP2m-FS200Hz_2021-11-02T000014Z.h5\n",
      "working on /data/data2/south-data-ejm/hdd/South-C1-LR-95km-P1kHz-GL50m-SP2m-FS200Hz_2021-11-01T16_09_15-0700/South-C1-LR-95km-P1kHz-GL50m-SP2m-FS200Hz_2021-11-02T000114Z.h5\n",
      "working on /data/data2/south-data-ejm/hdd/South-C1-LR-95km-P1kHz-GL50m-SP2m-FS200Hz_2021-11-01T16_09_15-0700/South-C1-LR-95km-P1kHz-GL50m-SP2m-FS200Hz_2021-11-02T000214Z.h5\n",
      "working on /data/data2/south-data-ejm/hdd/South-C1-LR-95km-P1kHz-GL50m-SP2m-FS200Hz_2021-11-01T16_09_15-0700/South-C1-LR-95km-P1kHz-GL50m-SP2m-FS200Hz_2021-11-02T000314Z.h5\n",
      "working on /data/data2/south-data-ejm/hdd/South-C1-LR-95km-P1kHz-GL50m-SP2m-FS200Hz_2021-11-01T16_09_15-0700/South-C1-LR-95km-P1kHz-GL50m-SP2m-FS200Hz_2021-11-02T000414Z.h5\n",
      "working on /data/data2/south-data-ejm/hdd/South-C1-LR-95km-P1kHz-GL50m-SP2m-FS200Hz_2021-11-01T16_09_15-0700/South-C1-LR-95km-P1kHz-GL50m-SP2m-FS200Hz_2021-11-02T000514Z.h5\n",
      "working on /data/data2/south-data-ejm/hdd/South-C1-LR-95km-P1kHz-GL50m-SP2m-FS200Hz_2021-11-01T16_09_15-0700/South-C1-LR-95km-P1kHz-GL50m-SP2m-FS200Hz_2021-11-02T000614Z.h5\n",
      "working on /data/data2/south-data-ejm/hdd/South-C1-LR-95km-P1kHz-GL50m-SP2m-FS200Hz_2021-11-01T16_09_15-0700/South-C1-LR-95km-P1kHz-GL50m-SP2m-FS200Hz_2021-11-02T000714Z.h5\n",
      "working on /data/data2/south-data-ejm/hdd/South-C1-LR-95km-P1kHz-GL50m-SP2m-FS200Hz_2021-11-01T16_09_15-0700/South-C1-LR-95km-P1kHz-GL50m-SP2m-FS200Hz_2021-11-02T000814Z.h5\n",
      "working on /data/data2/south-data-ejm/hdd/South-C1-LR-95km-P1kHz-GL50m-SP2m-FS200Hz_2021-11-01T16_09_15-0700/South-C1-LR-95km-P1kHz-GL50m-SP2m-FS200Hz_2021-11-02T000914Z.h5\n",
      "25.29142792224884\n"
     ]
    }
   ],
   "source": [
    "t0 = time.time()\n",
    "\n",
    "# sequentially convert 10 files\n",
    "for idf, f in enumerate(flist[:10]):\n",
    "#     if idf % size == rank:\n",
    "    print(f\"working on {f}\")\n",
    "    zname = f.split(\"_\")[-1][:-3]\n",
    "    f = h5py.File(f,'r')\n",
    "    z = zarr.open(f\"s3://OOI-DAS-200/{zname}.zarr\", \n",
    "                   storage_options = {\n",
    "                       # for public data (anonymous access):\n",
    "                        \"anon\": True,\n",
    "                        \"client_kwargs\": {\n",
    "                           # note there is no s in http\n",
    "                           \"endpoint_url\": \"http://pnwstore1.ess.washington.edu:9000\"\n",
    "                       }\n",
    "                   }, mode = 'w')\n",
    "\n",
    "    zacq = z.create_group(\"Acquisition\")\n",
    "    zcustom1 = zacq.create_group(\"Custom\")\n",
    "\n",
    "    # Raw[0] seem not working for fsspec\n",
    "    # use Raw%5B0%5B? Raw0\n",
    "    zraw = zacq.create_group(\"Raw0\") \n",
    "\n",
    "    # chunck size to alter\n",
    "    zrawdata = zraw.create_dataset(\"RawData\", shape=(47500, 12000), chunks=(200, 12000), dtype='i4')\n",
    "    zrawdata[:, :] = f['/Acquisition/Raw[0]/RawData'][:, :]\n",
    "\n",
    "    zrawdatatime = zraw.create_dataset(\"RawDataTime\", shape=(12000,),  dtype='i8')\n",
    "    zrawdatatime[:] = f['/Acquisition/Raw[0]/RawDataTime'][:]\n",
    "\n",
    "    zcustom2 = zraw.create_group(\"Custom\")\n",
    "    zgpbit = zcustom2.create_dataset(\"GpBits\", shape=(12000,),  dtype='u1')\n",
    "    zgpbit[:] = f['/Acquisition/Raw[0]/Custom/GpBits'][:]\n",
    "\n",
    "    zgps = zcustom2.create_dataset(\"GpsStatus\", shape=(12000,), dtype='u1')\n",
    "    zgps[:] = f['/Acquisition/Raw[0]/Custom/GpsStatus'][:]\n",
    "\n",
    "    zpps = zcustom2.create_dataset(\"PpsOffset\", shape=(12000,), dtype='u4')\n",
    "    zpps[:] = f['/Acquisition/Raw[0]/Custom/PpsOffset'][:]\n",
    "\n",
    "    zspc = zcustom2.create_dataset(\"SampleCount\", shape=(12000,), dtype='i8')\n",
    "    zspc[:] = f['/Acquisition/Raw[0]/Custom/SampleCount'][:]\n",
    "\n",
    "    f.close()\n",
    "print((time.time() - t0)/10)"
   ]
  },
  {
   "cell_type": "code",
   "execution_count": null,
   "id": "4573b27c",
   "metadata": {},
   "outputs": [],
   "source": []
  }
 ],
 "metadata": {
  "kernelspec": {
   "display_name": "das",
   "language": "python",
   "name": "das"
  },
  "language_info": {
   "codemirror_mode": {
    "name": "ipython",
    "version": 3
   },
   "file_extension": ".py",
   "mimetype": "text/x-python",
   "name": "python",
   "nbconvert_exporter": "python",
   "pygments_lexer": "ipython3",
   "version": "3.8.12"
  }
 },
 "nbformat": 4,
 "nbformat_minor": 5
}
